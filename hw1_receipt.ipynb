{
 "cells": [
  {
   "cell_type": "code",
   "execution_count": 10,
   "id": "e86bfbd9",
   "metadata": {},
   "outputs": [],
   "source": [
    "lovely_loveseat_description = \"Lovely Loveseat.Tufted polyester blend on wood. 32 inches high x 40 inches wide x 30 inches deep. Red or white.\"\n",
    "lovely_loveseat_price = 254.00\n",
    "\n",
    "\n",
    "stylish_settee_description = \"Stylish Settee. Faux leather on birch. 29.50 inches high x 54.75 inches wide x 28 inches deep. Black.\"\n",
    "stylish_settee_price = 180.50\n",
    "\n",
    "\n",
    "luxurious_lamp_description = \"Luxurious Lamp. Glass and iron. 36 inches tall. Brown with cream shade.\"\n",
    "luxurious_lamp_price = 52.15\n",
    "\n",
    "\n",
    "sales_tax = 1.088\n"
   ]
  },
  {
   "cell_type": "code",
   "execution_count": 11,
   "id": "70c51a1b",
   "metadata": {},
   "outputs": [
    {
     "name": "stdout",
     "output_type": "stream",
     "text": [
      "Customer One Items: \n",
      "Lovely Loveseat.Tufted polyester blend on wood. 32 inches high x 40 inches wide x 30 inches deep. Red or white.Luxurious Lamp. Glass and iron. 36 inches tall. Brown with cream shade.\n",
      "Customer one total: \n",
      "333.0912000000\n"
     ]
    }
   ],
   "source": [
    "customer_one_tax = (lovely_loveseat_price, stylish_settee_price, luxurious_lamp_price)\n",
    "customer_one_total = (customer_one_tax[0] + customer_one_tax[2]) * sales_tax\n",
    "customer_one_itemization = (lovely_loveseat_description, stylish_settee_description, luxurious_lamp_description)\n",
    "\n",
    "print((\"Customer One Items: \\n%s\") % customer_one_itemization[0] + customer_one_itemization[2])\n",
    "print((\"Customer one total: \\n%.10f\") % customer_one_total)"
   ]
  },
  {
   "cell_type": "code",
   "execution_count": null,
   "id": "546bcc88",
   "metadata": {},
   "outputs": [],
   "source": []
  }
 ],
 "metadata": {
  "kernelspec": {
   "display_name": "Python 3 (ipykernel)",
   "language": "python",
   "name": "python3"
  },
  "language_info": {
   "codemirror_mode": {
    "name": "ipython",
    "version": 3
   },
   "file_extension": ".py",
   "mimetype": "text/x-python",
   "name": "python",
   "nbconvert_exporter": "python",
   "pygments_lexer": "ipython3",
   "version": "3.9.12"
  }
 },
 "nbformat": 4,
 "nbformat_minor": 5
}
