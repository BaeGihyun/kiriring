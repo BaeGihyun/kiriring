{
 "cells": [
  {
   "cell_type": "code",
   "execution_count": 1,
   "id": "100026ea",
   "metadata": {},
   "outputs": [],
   "source": [
    "import numpy as np"
   ]
  },
  {
   "cell_type": "code",
   "execution_count": 3,
   "id": "62e7e9f7",
   "metadata": {},
   "outputs": [],
   "source": [
    "hairstyles = [\"bouffant\", \"pixie\", \"dreadlocks\", \"crew\", \"bowl\", \"bob\", \"mohawk\", \"flattop\"]\n",
    "prices = [30, 25, 40, 20, 20, 35, 50, 35]\n",
    "last_week = [2, 3, 5, 8, 4, 4, 6, 2]\n"
   ]
  },
  {
   "cell_type": "code",
   "execution_count": 18,
   "id": "57d2921f",
   "metadata": {},
   "outputs": [],
   "source": [
    "total_price  = 0\n",
    "for i in prices:\n",
    "    total_price += i"
   ]
  },
  {
   "cell_type": "code",
   "execution_count": 19,
   "id": "53a7ee18",
   "metadata": {},
   "outputs": [
    {
     "name": "stdout",
     "output_type": "stream",
     "text": [
      "average_price is  31.875\n"
     ]
    }
   ],
   "source": [
    "average_price =  np.mean(prices)\n",
    "print(\"average_price is \", average_price)"
   ]
  },
  {
   "cell_type": "code",
   "execution_count": 14,
   "id": "4886779b",
   "metadata": {},
   "outputs": [
    {
     "name": "stdout",
     "output_type": "stream",
     "text": [
      "[25 20 35 15 15 30 45 30]\n"
     ]
    }
   ],
   "source": [
    "new_prices = np.subtract(prices, 5)\n",
    "print(new_prices)"
   ]
  },
  {
   "cell_type": "code",
   "execution_count": 21,
   "id": "00bf7c69",
   "metadata": {},
   "outputs": [
    {
     "name": "stdout",
     "output_type": "stream",
     "text": [
      "1085\n"
     ]
    }
   ],
   "source": [
    "total_revenue = 0\n",
    "for i in range(len(hairstyles)):\n",
    "    total_revenue += prices[i] * last_week[i]\n",
    "print(total_revenue)"
   ]
  },
  {
   "cell_type": "code",
   "execution_count": 23,
   "id": "5c3fad83",
   "metadata": {},
   "outputs": [
    {
     "name": "stdout",
     "output_type": "stream",
     "text": [
      "Average daily revenue is 155.0\n"
     ]
    }
   ],
   "source": [
    "print(\"Average daily revenue is\", total_revenue / 7)"
   ]
  },
  {
   "cell_type": "code",
   "execution_count": 31,
   "id": "37c92cdd",
   "metadata": {},
   "outputs": [],
   "source": [
    "cuts_under_30 = [hairstyles[i] for i in range(len(new_prices)) if new_prices[i] < 30]"
   ]
  },
  {
   "cell_type": "code",
   "execution_count": 27,
   "id": "bd09a27b",
   "metadata": {},
   "outputs": [],
   "source": [
    "cuts_under_30 = [hairstyles[i] for i in range(len(new_prices)) if new_prices[i] < 30]"
   ]
  },
  {
   "cell_type": "code",
   "execution_count": 32,
   "id": "1f47feca",
   "metadata": {},
   "outputs": [
    {
     "name": "stdout",
     "output_type": "stream",
     "text": [
      "['bouffant', 'pixie', 'crew', 'bowl']\n"
     ]
    }
   ],
   "source": [
    "print(cuts_under_30)"
   ]
  }
 ],
 "metadata": {
  "kernelspec": {
   "display_name": "Python 3 (ipykernel)",
   "language": "python",
   "name": "python3"
  },
  "language_info": {
   "codemirror_mode": {
    "name": "ipython",
    "version": 3
   },
   "file_extension": ".py",
   "mimetype": "text/x-python",
   "name": "python",
   "nbconvert_exporter": "python",
   "pygments_lexer": "ipython3",
   "version": "3.9.12"
  }
 },
 "nbformat": 4,
 "nbformat_minor": 5
}
